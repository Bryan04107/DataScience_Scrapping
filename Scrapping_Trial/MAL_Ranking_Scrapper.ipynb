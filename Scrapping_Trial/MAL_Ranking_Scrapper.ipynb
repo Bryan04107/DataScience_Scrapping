{
 "cells": [
  {
   "cell_type": "code",
   "execution_count": 23,
   "metadata": {},
   "outputs": [],
   "source": [
    "from bs4 import BeautifulSoup\n",
    "import requests\n",
    "import pandas as pd"
   ]
  },
  {
   "cell_type": "code",
   "execution_count": 24,
   "metadata": {},
   "outputs": [],
   "source": [
    "url = 'https://myanimelist.net/topanime.php'\n",
    "response = requests.get(url)\n",
    "soup = BeautifulSoup(response.content, \"html.parser\")"
   ]
  },
  {
   "cell_type": "code",
   "execution_count": 25,
   "metadata": {},
   "outputs": [],
   "source": [
    "Anime_Rank_List=[]\n",
    "Anime_Title_List=[]\n",
    "TEMP_Episodes_List=[]\n",
    "TEMP2_List=[]\n",
    "Type_List=[]\n",
    "Episodes_List=[]\n",
    "Year_List=[]\n",
    "Members_List=[]\n",
    "Rating_List=[]"
   ]
  },
  {
   "cell_type": "code",
   "execution_count": 26,
   "metadata": {},
   "outputs": [],
   "source": [
    "Anime_Data=soup.findAll('tr', attrs={'class':'ranking-list'})"
   ]
  },
  {
   "cell_type": "code",
   "execution_count": 27,
   "metadata": {},
   "outputs": [],
   "source": [
    "for store in Anime_Data:\n",
    "  Anime_Rank_List.append(store.find('div', class_='js-top-ranking-score-col di-ib al').text)\n",
    "  Anime_Title_List.append(store.h3.a.text)\n",
    "  TEMP_Episodes_List = store.div.find('div', class_='information di-ib mt4').text.replace('        ','').split('\\n')\n",
    "  TEMP2_List = (TEMP_Episodes_List[1].split('('))\n",
    "  Type_List.append(TEMP2_List[0].replace(' ',''))\n",
    "  Episodes_List.append(TEMP2_List[1].replace(')',''))\n",
    "  Year_List.append(TEMP_Episodes_List[2])\n",
    "  Rating_List.append(store.find('div', class_='js-top-ranking-score-col di-ib al').text)\n",
    "  Members_List.append(TEMP_Episodes_List[3])"
   ]
  },
  {
   "cell_type": "code",
   "execution_count": 28,
   "metadata": {},
   "outputs": [
    {
     "name": "stdout",
     "output_type": "stream",
     "text": [
      "50 ['Fullmetal Alchemist: Brotherhood', 'Steins;Gate', 'Bleach: Sennen Kessen-hen', 'Gintama°', 'Shingeki no Kyojin Season 3 Part 2', \"Gintama'\", 'Gintama: The Final', 'Hunter x Hunter (2011)', 'Kaguya-sama wa Kokurasetai: Ultra Romantic', \"Gintama': Enchousen\", 'Shingeki no Kyojin: The Final Season - Kanketsu-hen', 'Ginga Eiyuu Densetsu', 'Fruits Basket: The Final', 'Gintama.', 'Bleach: Sennen Kessen-hen - Ketsubetsu-tan', 'Gintama', 'Koe no Katachi', '3-gatsu no Lion 2nd Season', 'Clannad: After Story', 'Code Geass: Hangyaku no Lelouch R2', 'Gintama Movie 2: Kanketsu-hen - Yorozuya yo Eien Nare', 'Violet Evergarden Movie', 'Owarimonogatari 2nd Season', 'Gintama.: Shirogane no Tamashii-hen - Kouhan-sen', 'Monster', 'Kimi no Na wa.', 'The First Slam Dunk', 'Kaguya-sama wa Kokurasetai: First Kiss wa Owaranai', 'Bocchi the Rock!', 'Vinland Saga Season 2', 'Kingdom 3rd Season', 'Gintama.: Shirogane no Tamashii-hen', 'Jujutsu Kaisen 2nd Season', 'Mob Psycho 100 II', 'Shingeki no Kyojin: The Final Season', 'Kizumonogatari III: Reiketsu-hen', 'Kimetsu no Yaiba: Yuukaku-hen', 'Sen to Chihiro no Kamikakushi', '\"Oshi no Ko\"', 'Haikyuu!! Karasuno Koukou vs. Shiratorizawa Gakuen Koukou', 'Monogatari Series: Second Season', 'Shingeki no Kyojin: The Final Season Part 2', 'Hajime no Ippo', 'Cowboy Bebop', 'Vinland Saga', 'Kingdom 4th Season', 'Mushishi Zoku Shou 2nd Season', 'Shouwa Genroku Rakugo Shinjuu: Sukeroku Futatabi-hen', 'Bungou Stray Dogs 5th Season', '86 Part 2']\n",
      "50 ['TV', 'TV', 'TV', 'TV', 'TV', 'TV', 'Movie', 'TV', 'TV', 'TV', 'Special', 'OVA', 'TV', 'TV', 'TV', 'TV', 'Movie', 'TV', 'TV', 'TV', 'Movie', 'Movie', 'TV', 'TV', 'TV', 'Movie', 'Movie', 'Movie', 'TV', 'TV', 'TV', 'TV', 'TV', 'TV', 'TV', 'Movie', 'TV', 'Movie', 'TV', 'TV', 'TV', 'TV', 'TV', 'TV', 'TV', 'TV', 'TV', 'TV', 'TV', 'TV']\n",
      "50 ['64 eps', '24 eps', '13 eps', '51 eps', '10 eps', '51 eps', '1 eps', '148 eps', '13 eps', '13 eps', '2 eps', '110 eps', '13 eps', '12 eps', '13 eps', '201 eps', '1 eps', '22 eps', '24 eps', '25 eps', '1 eps', '1 eps', '7 eps', '14 eps', '74 eps', '1 eps', '1 eps', '1 eps', '12 eps', '24 eps', '26 eps', '12 eps', '23 eps', '13 eps', '16 eps', '1 eps', '11 eps', '1 eps', '11 eps', '10 eps', '26 eps', '12 eps', '75 eps', '26 eps', '24 eps', '26 eps', '10 eps', '12 eps', '11 eps', '12 eps']\n",
      "50 ['Apr 2009 - Jul 2010', 'Apr 2011 - Sep 2011', 'Oct 2022 - Dec 2022', 'Apr 2015 - Mar 2016', 'Apr 2019 - Jul 2019', 'Apr 2011 - Mar 2012', 'Jan 2021 - Jan 2021', 'Oct 2011 - Sep 2014', 'Apr 2022 - Jun 2022', 'Oct 2012 - Mar 2013', 'Mar 2023 - Nov 2023', 'Jan 1988 - Mar 1997', 'Apr 2021 - Jun 2021', 'Jan 2017 - Mar 2017', 'Jul 2023 - Sep 2023', 'Apr 2006 - Mar 2010', 'Sep 2016 - Sep 2016', 'Oct 2017 - Mar 2018', 'Oct 2008 - Mar 2009', 'Apr 2008 - Sep 2008', 'Jul 2013 - Jul 2013', 'Sep 2020 - Sep 2020', 'Aug 2017 - Aug 2017', 'Jul 2018 - Oct 2018', 'Apr 2004 - Sep 2005', 'Aug 2016 - Aug 2016', 'Dec 2022 - Dec 2022', 'Dec 2022 - Dec 2022', 'Oct 2022 - Dec 2022', 'Jan 2023 - Jun 2023', 'Apr 2020 - Oct 2021', 'Jan 2018 - Mar 2018', 'Jul 2023 - ', 'Jan 2019 - Apr 2019', 'Dec 2020 - Mar 2021', 'Jan 2017 - Jan 2017', 'Dec 2021 - Feb 2022', 'Jul 2001 - Jul 2001', 'Apr 2023 - Jun 2023', 'Oct 2016 - Dec 2016', 'Jul 2013 - Dec 2013', 'Jan 2022 - Apr 2022', 'Oct 2000 - Mar 2002', 'Apr 1998 - Apr 1999', 'Jul 2019 - Dec 2019', 'Apr 2022 - Oct 2022', 'Oct 2014 - Dec 2014', 'Jan 2017 - Mar 2017', 'Jul 2023 - Sep 2023', 'Oct 2021 - Mar 2022']\n",
      "50 ['3,227,328 members', '2,480,359 members', '480,168 members', '606,896 members', '2,155,739 members', '535,933 members', '138,170 members', '2,710,006 members', '857,086 members', '314,314 members', '479,236 members', '310,206 members', '446,607 members', '303,187 members', '189,140 members', '1,036,853 members', '2,235,833 members', '389,444 members', '1,163,399 members', '1,724,932 members', '233,039 members', '567,614 members', '386,332 members', '189,927 members', '1,047,319 members', '2,643,223 members', '28,487 members', '209,497 members', '472,892 members', '504,465 members', '94,185 members', '204,247 members', '584,492 members', '1,463,390 members', '1,890,197 members', '446,879 members', '1,311,329 members', '1,790,317 members', '658,839 members', '1,160,651 members', '654,484 members', '1,177,472 members', '561,153 members', '1,801,745 members', '1,412,042 members', '56,371 members', '258,318 members', '182,853 members', '120,711 members', '454,299 members']\n",
      "50 ['9.10', '9.07', '9.06', '9.06', '9.05', '9.04', '9.04', '9.04', '9.04', '9.03', '9.03', '9.02', '8.99', '8.98', '8.96', '8.94', '8.94', '8.93', '8.93', '8.91', '8.91', '8.89', '8.88', '8.88', '8.87', '8.84', '8.83', '8.83', '8.82', '8.82', '8.81', '8.81', '8.81', '8.80', '8.80', '8.79', '8.78', '8.78', '8.78', '8.78', '8.77', '8.77', '8.76', '8.75', '8.74', '8.74', '8.73', '8.72', '8.72', '8.71']\n"
     ]
    }
   ],
   "source": [
    "print(len(Anime_Title_List), Anime_Title_List)\n",
    "print(len(Type_List), Type_List)\n",
    "print(len(Episodes_List), Episodes_List)\n",
    "print(len(Year_List), Year_List)\n",
    "print(len(Rating_List), Rating_List)\n",
    "print(len(Members_List), Members_List)"
   ]
  },
  {
   "cell_type": "code",
   "execution_count": 31,
   "metadata": {},
   "outputs": [
    {
     "name": "stdout",
     "output_type": "stream",
     "text": [
      "                                Title Type Episodes                 Year  \\\n",
      "0    Fullmetal Alchemist: Brotherhood   TV   64 eps  Apr 2009 - Jul 2010   \n",
      "1                         Steins;Gate   TV   24 eps  Apr 2011 - Sep 2011   \n",
      "2           Bleach: Sennen Kessen-hen   TV   13 eps  Oct 2022 - Dec 2022   \n",
      "3                            Gintama°   TV   51 eps  Apr 2015 - Mar 2016   \n",
      "4  Shingeki no Kyojin Season 3 Part 2   TV   10 eps  Apr 2019 - Jul 2019   \n",
      "\n",
      "  Rating            Members  \n",
      "0   9.10  3,227,328 members  \n",
      "1   9.07  2,480,359 members  \n",
      "2   9.06    480,168 members  \n",
      "3   9.06    606,896 members  \n",
      "4   9.05  2,155,739 members  \n"
     ]
    }
   ],
   "source": [
    "dataframe=pd.DataFrame(\n",
    "    {\n",
    "        'Title': Anime_Title_List,\n",
    "        'Type': Type_List,\n",
    "        'Episodes': Episodes_List,\n",
    "        'Year': Year_List,\n",
    "        'Rating': Rating_List,\n",
    "        'Members': Members_List\n",
    "    }\n",
    ")\n",
    "\n",
    "print(dataframe.head())\n",
    "dataframe.to_csv('MAL_Top_50.csv', index=False)"
   ]
  }
 ],
 "metadata": {
  "kernelspec": {
   "display_name": "Python 3",
   "language": "python",
   "name": "python3"
  },
  "language_info": {
   "codemirror_mode": {
    "name": "ipython",
    "version": 3
   },
   "file_extension": ".py",
   "mimetype": "text/x-python",
   "name": "python",
   "nbconvert_exporter": "python",
   "pygments_lexer": "ipython3",
   "version": "3.10.7"
  },
  "orig_nbformat": 4
 },
 "nbformat": 4,
 "nbformat_minor": 2
}
