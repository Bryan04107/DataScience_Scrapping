{
 "cells": [
  {
   "cell_type": "code",
   "execution_count": 46,
   "metadata": {},
   "outputs": [],
   "source": [
    "from bs4 import BeautifulSoup\n",
    "import requests\n",
    "import pandas as pd"
   ]
  },
  {
   "cell_type": "code",
   "execution_count": 47,
   "metadata": {},
   "outputs": [],
   "source": [
    "url = 'https://www.prydwen.gg/star-rail/dps-rankings'\n",
    "response = requests.get(url)\n",
    "soup = BeautifulSoup(response.content, \"html.parser\")"
   ]
  },
  {
   "cell_type": "code",
   "execution_count": 48,
   "metadata": {},
   "outputs": [],
   "source": [
    "Character_Name_List=[]\n",
    "Element_List=[]\n",
    "TEMP_List=[]\n",
    "Damage_List=[]\n",
    "SP_Usage_List=[]\n",
    "Damage_Efficiency_List=[]\n",
    "More_Detail_List=[]"
   ]
  },
  {
   "cell_type": "code",
   "execution_count": 49,
   "metadata": {},
   "outputs": [],
   "source": [
    "Character_Data=soup.findAll('div', attrs={'class':'simulation-row'})"
   ]
  },
  {
   "cell_type": "code",
   "execution_count": 50,
   "metadata": {},
   "outputs": [],
   "source": [
    "for store in Character_Data:\n",
    "  Character_Name_List.append(store.p.text)\n",
    "  Element_List.append(store.find('div', class_='dps-bar-outside').div.attrs.get('class')[1])\n",
    "  TEMP_List = store.find('span', class_='dps').text.replace('\\xa0',',').split('(')\n",
    "  Damage_List.append(TEMP_List[0].rstrip(\" \"))\n",
    "  SP_Usage_List.append(TEMP_List[1].replace(')',''))\n",
    "  Damage_Efficiency_List.append(store.find('span', class_='percent').text)\n",
    "  More_Detail_List.append(store.a.attrs.get('href'))"
   ]
  },
  {
   "cell_type": "code",
   "execution_count": 51,
   "metadata": {},
   "outputs": [
    {
     "name": "stdout",
     "output_type": "stream",
     "text": [
      "16 ['Seele', 'Yanqing', 'Kafka', 'Dan Heng', 'Jing Yuan', 'Blade', 'Hook', 'Sushang', 'Arlan', 'Himeko', 'Luka', 'Silver Wolf', 'Sampo', 'Serval', 'Trailblazer (Physical)', 'Herta']\n",
      "16 ['quantum', 'ice', 'lightning', 'wind', 'lightning', 'wind', 'fire', 'phys', 'lightning', 'fire', 'phys', 'quantum', 'wind', 'lightning', 'phys', 'ice']\n",
      "16 ['335,928 DMG', '316,307 DMG', '308,737 DMG', '278,014 DMG', '265,595 DMG', '262,590 DMG', '257,902 DMG', '245,778 DMG', '198,898 DMG', '183,283 DMG', '177,955 DMG', '174,820 DMG', '161,749 DMG', '157,433 DMG', '154,349 DMG', '91,291 DMG']\n",
      "16 ['12 SP', '12 SP', '12 SP', '14 SP', '11 SP', '3 SP', '11 SP', '16 SP', '0 SP', '10 SP', '0 SP', '12 SP', '10 SP', '11 SP', '11 SP', '-1 SP']\n",
      "16 ['100.00%', '94.16%', '91.91%', '82.76%', '79.06%', '78.17%', '76.77%', '73.16%', '59.21%', '54.56%', '52.97%', '52.04%', '48.15%', '46.87%', '45.95%', '27.18%']\n",
      "16 ['/star-rail/characters/seele', '/star-rail/characters/yanqing', '/star-rail/characters/kafka', '/star-rail/characters/dan-heng', '/star-rail/characters/jing-yuan', '/star-rail/characters/blade', '/star-rail/characters/hook', '/star-rail/characters/sushang', '/star-rail/characters/arlan', '/star-rail/characters/himeko', '/star-rail/characters/luka', '/star-rail/characters/silver-wolf', '/star-rail/characters/sampo', '/star-rail/characters/serval', '/star-rail/characters/trailblazer-physical', '/star-rail/characters/herta']\n"
     ]
    }
   ],
   "source": [
    "print(len(Character_Name_List), Character_Name_List)\n",
    "print(len(Element_List), Element_List)\n",
    "print(len(Damage_List), Damage_List)\n",
    "print(len(SP_Usage_List), SP_Usage_List)\n",
    "print(len(Damage_Efficiency_List), Damage_Efficiency_List)\n",
    "print(len(More_Detail_List),More_Detail_List)"
   ]
  },
  {
   "cell_type": "code",
   "execution_count": 52,
   "metadata": {},
   "outputs": [
    {
     "name": "stdout",
     "output_type": "stream",
     "text": [
      "        Name    Element Total Damage SP Udage Damage Efficiency  \\\n",
      "0      Seele    quantum  335,928 DMG    12 SP           100.00%   \n",
      "1    Yanqing        ice  316,307 DMG    12 SP            94.16%   \n",
      "2      Kafka  lightning  308,737 DMG    12 SP            91.91%   \n",
      "3   Dan Heng       wind  278,014 DMG    14 SP            82.76%   \n",
      "4  Jing Yuan  lightning  265,595 DMG    11 SP            79.06%   \n",
      "\n",
      "                      More Details  \n",
      "0      /star-rail/characters/seele  \n",
      "1    /star-rail/characters/yanqing  \n",
      "2      /star-rail/characters/kafka  \n",
      "3   /star-rail/characters/dan-heng  \n",
      "4  /star-rail/characters/jing-yuan  \n"
     ]
    }
   ],
   "source": [
    "dataframe=pd.DataFrame(\n",
    "    {\n",
    "        'Name': Character_Name_List,\n",
    "        'Element': Element_List,\n",
    "        'Total Damage': Damage_List,\n",
    "        'SP Udage': SP_Usage_List,\n",
    "        'Damage Efficiency': Damage_Efficiency_List,\n",
    "        'More Details': More_Detail_List,\n",
    "    }\n",
    ")\n",
    "\n",
    "print(dataframe.head())\n",
    "dataframe.to_csv('StarRail_Ranking.csv', index=False)"
   ]
  }
 ],
 "metadata": {
  "kernelspec": {
   "display_name": "Python 3",
   "language": "python",
   "name": "python3"
  },
  "language_info": {
   "codemirror_mode": {
    "name": "ipython",
    "version": 3
   },
   "file_extension": ".py",
   "mimetype": "text/x-python",
   "name": "python",
   "nbconvert_exporter": "python",
   "pygments_lexer": "ipython3",
   "version": "3.10.7"
  },
  "orig_nbformat": 4
 },
 "nbformat": 4,
 "nbformat_minor": 2
}
